{
 "cells": [
  {
   "attachments": {
    "signature.png": {
     "image/png": "[encoded data removed]"
    }
   },
   "cell_type": "markdown",
   "id": "0d143dae",
   "metadata": {},
   "source": [
    "# Project: 1 million Sudoku games (Analysis 3 Different Approaches!) <br> Part 1\n",
    "\n",
    "$By:$\n",
    "<p><a href=\"https://www.linkedin.com/in/mosta-ashour/\">\n",
    "<img src=\"attachment:signature.png\" align=\"left\"> <br> <br> <br>\n",
    "</a></p>\n",
    "\n",
    "## Table of Contents\n",
    "<ul>\n",
    "<li><a href=\"#intro\"><b>Introduction</b></a></li>\n",
    "    <ul>\n",
    "        <li><a href=\"#What is Sudoku?\"><b>What is Sudoku?</b></a></li>\n",
    "        <li><a href=\"#Dataset Explanation\"><b>Dataset Explanation</b></a></li>\n",
    "    </ul>\n",
    "<li><a href=\"#Approaches Explanation\"><b>Approaches Explanation</b></a></li>\n",
    "    <ul>\n",
    "        <li><a href=\"#approach1\"><b>1. Backtracking Algorithm</b></a></li>\n",
    "        <li><a href=\"#approach2\"><b>2. Naked Twin Approach (Implementation 1)</b></a></li>\n",
    "        <li><a href=\"#approach3\"><b>3. Naked Twin Approach (Implementation 2)</b></a></li>\n",
    "    </ul>\n",
    "<li><a href=\"#Analyse\"><b>Analyse the results</b></a></li>\n",
    "<li><a href=\"#conclusion\"><b>Conclusion</b></a></li>\n",
    "</ul>"
   ]
  },
  {
   "cell_type": "markdown",
   "id": "772e139c",
   "metadata": {},
   "source": [
    "## Introduction <a id='intro'></a>\n",
    "> Welcome to my humble Python Notebook! In this notebook, we will explore the fascinating world of Sudoku. \n",
    "\n",
    "### What is Sudoku? <a id='What is Sudoku?'></a>\n",
    "- Sudoku is a popular logic-based puzzle that has captivated puzzle enthusiasts worldwide. It involves a 9x9 grid, divided into nine 3x3 sub-grids, and the objective is to fill in the grid with digits from 1 to 9 in such a way that each column, each row, and each sub-grid contains all the numbers from 1 to 9 without any repetition.\n",
    "- Sudoku puzzles generally start with some of the cells already filled in, and the solver's task is to complete the remaining cells following the rules of the game. The puzzles vary in difficulty, with some being relatively straightforward and others requiring advanced problem-solving techniques.\n",
    "\n",
    "In this notebook, we will compare and analysis multiple Sudoku solver implementation using Python. We will explore different approaches and algorithms to tackle Sudoku puzzles of varying complexity.\n",
    "The main goal in this notebook is to compare different approaches and techniques in solving Sudoku. So let's dive in and embark on our Sudoku-solving adventure!"
   ]
  },
  {
   "cell_type": "markdown",
   "id": "8ba63b94",
   "metadata": {},
   "source": [
    "### Dataset Explanation: <a id='Dataset Explanation'></a>\n",
    "- We're using the [1 million Sudoku games](https://www.kaggle.com/datasets/bryanpark/sudoku) dataset. This dataset contains 1 million Sudoku puzzles. Each row in the dataset consists of two columns: \n",
    "  - quizzes: The quizzes column represents the initial incomplete Sudoku puzzle with some cells already filled in.\n",
    "  - solutions: The solutions column contains the complete solution to each puzzle.\n",
    "\n",
    "**Firstly, let's start by importing the required packages:**"
   ]
  },
  {
   "cell_type": "code",
   "execution_count": 1,
   "id": "396b1696",
   "metadata": {},
   "outputs": [],
   "source": [
    "import time\n",
    "import random\n",
    "\n",
    "import numpy as np\n",
    "import pandas as pd\n",
    "\n",
    "from tqdm import tqdm\n",
    "\n",
    "import seaborn as sns\n",
    "import matplotlib.pyplot as plt\n",
    "\n",
    "from multiprocessing import Pool\n",
    "\n",
    "# import our three approaches\n",
    "from solution_1 import *\n",
    "from solution_2 import *\n",
    "from solution_3 import *\n",
    "\n",
    "\n",
    "# defining the multi-processing function\n",
    "def parallelize_dataframe(df, func):\n",
    "    num_partitions = 100 #number of partitions to split dataframe\n",
    "    num_cores = 8 #number of cores on your machine\n",
    "\n",
    "    df_split = np.array_split(df, num_partitions)\n",
    "    pool = Pool(num_cores)\n",
    "    pool.map(func, df_split)\n",
    "    pool.close()\n",
    "    pool.join()"
   ]
  },
  {
   "cell_type": "markdown",
   "id": "2097e30d",
   "metadata": {},
   "source": [
    "- Since working with the entire dataset of 1 million puzzles can be time-consuming, we will select a smaller sample of 20,000 puzzles for our analysis. To ensure a representative sample, we will use simple random sampling, which is a basic probability sampling method. This method selects a subset of items from the larger population (in this case, the Sudoku puzzles) randomly and with equal probability.\n",
    "\n",
    "**Let's perform the simple random sampling to create our sample dataset:**"
   ]
  },
  {
   "cell_type": "code",
   "execution_count": 2,
   "id": "6aa97da2",
   "metadata": {},
   "outputs": [
    {
     "data": {
      "text/html": [
       "<div>\n",
       "<style scoped>\n",
       "    .dataframe tbody tr th:only-of-type {\n",
       "        vertical-align: middle;\n",
       "    }\n",
       "\n",
       "    .dataframe tbody tr th {\n",
       "        vertical-align: top;\n",
       "    }\n",
       "\n",
       "    .dataframe thead th {\n",
       "        text-align: right;\n",
       "    }\n",
       "</style>\n",
       "<table border=\"1\" class=\"dataframe\">\n",
       "  <thead>\n",
       "    <tr style=\"text-align: right;\">\n",
       "      <th></th>\n",
       "      <th>quizzes</th>\n",
       "      <th>solutions</th>\n",
       "    </tr>\n",
       "  </thead>\n",
       "  <tbody>\n",
       "    <tr>\n",
       "      <th>157105</th>\n",
       "      <td>0071000520006800090930240807084090036010020000...</td>\n",
       "      <td>8671934522146857395937241867284695136413529783...</td>\n",
       "    </tr>\n",
       "    <tr>\n",
       "      <th>374554</th>\n",
       "      <td>0086300004001075009000002631730050040020809050...</td>\n",
       "      <td>2586391474361275989175482631739658246427839158...</td>\n",
       "    </tr>\n",
       "    <tr>\n",
       "      <th>688694</th>\n",
       "      <td>0090000407560000300007009510015020003800160024...</td>\n",
       "      <td>8193256477561492382347689516915823743874165924...</td>\n",
       "    </tr>\n",
       "    <tr>\n",
       "      <th>265381</th>\n",
       "      <td>1005038040004200700736000008100005200900471302...</td>\n",
       "      <td>1625738949584213764736982518143695275962471382...</td>\n",
       "    </tr>\n",
       "    <tr>\n",
       "      <th>955415</th>\n",
       "      <td>4065090037900208600108000000000360908507000340...</td>\n",
       "      <td>4865192737953248613128679452471365988517926346...</td>\n",
       "    </tr>\n",
       "  </tbody>\n",
       "</table>\n",
       "</div>"
      ],
      "text/plain": [
       "                                                  quizzes  \\\n",
       "157105  0071000520006800090930240807084090036010020000...   \n",
       "374554  0086300004001075009000002631730050040020809050...   \n",
       "688694  0090000407560000300007009510015020003800160024...   \n",
       "265381  1005038040004200700736000008100005200900471302...   \n",
       "955415  4065090037900208600108000000000360908507000340...   \n",
       "\n",
       "                                                solutions  \n",
       "157105  8671934522146857395937241867284695136413529783...  \n",
       "374554  2586391474361275989175482631739658246427839158...  \n",
       "688694  8193256477561492382347689516915823743874165924...  \n",
       "265381  1625738949584213764736982518143695275962471382...  \n",
       "955415  4865192737953248613128679452471365988517926346...  "
      ]
     },
     "execution_count": 2,
     "metadata": {},
     "output_type": "execute_result"
    }
   ],
   "source": [
    "# Load the entire dataset\n",
    "df = pd.read_csv(\"sudoku.csv\")\n",
    "\n",
    "# Set the random seed for reproducibility\n",
    "random.seed(42)\n",
    "\n",
    "# Perform simple random sampling to select 20,000 puzzles\n",
    "sample_size = 20000\n",
    "df = df.sample(n=sample_size, random_state=0)\n",
    "\n",
    "# format a dataframe to store our results\n",
    "df_res = pd.DataFrame(columns=[\"approach\", \"mode\", \"speed\"])\n",
    "\n",
    "df.head()"
   ]
  },
  {
   "cell_type": "markdown",
   "id": "c5124bf7",
   "metadata": {},
   "source": [
    "- By using simple random sampling, we ensure that each puzzle in the original dataset has an equal chance of being included in our sample. This smaller sample size will allow us to work with a more manageable amount of data while still capturing the characteristics of the larger population.\n",
    "\n",
    "<a id='Approaches Explanation'></a>\n",
    "\n",
    "We're going to compare three different approaches, all of which guarantee a 100% accuracy in solving Sudoku puzzles. Let's have a quick overview of each approach:\n",
    "\n",
    "1. **Backtracking Algorithm:**<br>\n",
    "The first approach is the Backtracking Algorithm. In this method, each cell is tested for a valid number, moving \"back\" when there is a violation, and moving forward again until the puzzle is solved. A Sudoku puzzle can be designed to challenge the brute force algorithm. For more detailed information on the Backtracking Algorithm, you can refer to the [Wikipedia article on Sudoku solving algorithms](https://en.wikipedia.org/wiki/Sudoku_solving_algorithms).\n",
    "\n",
    "2. **Naked Twin Approach (Implementation 1):**<br>\n",
    "The second approach is based on the Naked Twin strategy, but with a specific implementation. The concept of Naked Twin states that if two connected positions have the same set of two values, then all the other linked missing values should not have those values. Consequently, we can eliminate those values from the list of possible values for the linked positions. For a better understanding of this approach, you can check the following website [here](https://www.sudokudragon.com/guidenakedtwins.htm). <br> And you can refer to the [Medium article by anand pathak](https://anandpathak69.medium.com/solving-sudoku-using-naked-twin-strategies-f7ed23ea867f) for more information and explanation.\n",
    "\n",
    "3. **Naked Twin Approach (Implementation 2):**<br>\n",
    "The third approach also utilizes the Naked Twin strategy but with a different implementation,This approach is explained in detail by YASH CHOUDHARY in Kaggle's notebook, you can check it in the following [link](https://www.kaggle.com/code/yashchoudhary/deep-sudoku-solver-multiple-approaches).\n",
    "\n",
    "Now that we have introduced the three approaches, we can proceed with our analysis, exploring and comparing the results of each approach."
   ]
  },
  {
   "cell_type": "markdown",
   "id": "d695406c",
   "metadata": {},
   "source": [
    "**Let's check how many clues in our sample data:**"
   ]
  },
  {
   "cell_type": "code",
   "execution_count": 3,
   "id": "6bf8404d",
   "metadata": {},
   "outputs": [
    {
     "data": {
      "text/html": [
       "<div>\n",
       "<style scoped>\n",
       "    .dataframe tbody tr th:only-of-type {\n",
       "        vertical-align: middle;\n",
       "    }\n",
       "\n",
       "    .dataframe tbody tr th {\n",
       "        vertical-align: top;\n",
       "    }\n",
       "\n",
       "    .dataframe thead th {\n",
       "        text-align: right;\n",
       "    }\n",
       "</style>\n",
       "<table border=\"1\" class=\"dataframe\">\n",
       "  <thead>\n",
       "    <tr style=\"text-align: right;\">\n",
       "      <th></th>\n",
       "      <th>clues</th>\n",
       "      <th>quizzes</th>\n",
       "    </tr>\n",
       "  </thead>\n",
       "  <tbody>\n",
       "    <tr>\n",
       "      <th>4</th>\n",
       "      <td>36</td>\n",
       "      <td>257</td>\n",
       "    </tr>\n",
       "    <tr>\n",
       "      <th>2</th>\n",
       "      <td>35</td>\n",
       "      <td>3959</td>\n",
       "    </tr>\n",
       "    <tr>\n",
       "      <th>0</th>\n",
       "      <td>34</td>\n",
       "      <td>9146</td>\n",
       "    </tr>\n",
       "    <tr>\n",
       "      <th>1</th>\n",
       "      <td>33</td>\n",
       "      <td>5306</td>\n",
       "    </tr>\n",
       "    <tr>\n",
       "      <th>3</th>\n",
       "      <td>32</td>\n",
       "      <td>1174</td>\n",
       "    </tr>\n",
       "    <tr>\n",
       "      <th>5</th>\n",
       "      <td>31</td>\n",
       "      <td>146</td>\n",
       "    </tr>\n",
       "    <tr>\n",
       "      <th>6</th>\n",
       "      <td>30</td>\n",
       "      <td>10</td>\n",
       "    </tr>\n",
       "    <tr>\n",
       "      <th>7</th>\n",
       "      <td>29</td>\n",
       "      <td>2</td>\n",
       "    </tr>\n",
       "  </tbody>\n",
       "</table>\n",
       "</div>"
      ],
      "text/plain": [
       "   clues  quizzes\n",
       "4     36      257\n",
       "2     35     3959\n",
       "0     34     9146\n",
       "1     33     5306\n",
       "3     32     1174\n",
       "5     31      146\n",
       "6     30       10\n",
       "7     29        2"
      ]
     },
     "execution_count": 3,
     "metadata": {},
     "output_type": "execute_result"
    }
   ],
   "source": [
    "# count clues\n",
    "df_clues = df.quizzes.apply(lambda x: 81-x.count('0'))\n",
    "\n",
    "# count clues groups\n",
    "df_clues = df_clues.value_counts()\n",
    "\n",
    "# rename columns\n",
    "df_clues = df_clues.reset_index()\n",
    "\n",
    "df_clues = df_clues.rename(columns={'index': 'clues'}).sort_values('clues', ascending=False)\n",
    "\n",
    "df_clues"
   ]
  },
  {
   "cell_type": "code",
   "execution_count": 4,
   "id": "9504ba58",
   "metadata": {},
   "outputs": [
    {
     "data": {
      "image/png": "[encoded data removed]",
      "text/plain": [
       "<Figure size 640x480 with 1 Axes>"
      ]
     },
     "metadata": {},
     "output_type": "display_data"
    }
   ],
   "source": [
    "plt.figure\n",
    "sns.barplot(x='quizzes', y='clues', data=df_clues, orient='h', order=df_clues.clues)\n",
    "plt.show();"
   ]
  },
  {
   "cell_type": "markdown",
   "id": "742078e7",
   "metadata": {},
   "source": [
    "## 1. Backtracking Algorithm: <a id='approach1'></a>\n",
    "**Now, let's explore the slow version of the Backtracking Algorithm to understand how it works:**"
   ]
  },
  {
   "cell_type": "code",
   "execution_count": 5,
   "id": "fe6f367a",
   "metadata": {},
   "outputs": [
    {
     "data": {
      "text/plain": [
       "[[0, 0, 7, 1, 0, 0, 0, 5, 2],\n",
       " [0, 0, 0, 6, 8, 0, 0, 0, 9],\n",
       " [0, 9, 3, 0, 2, 4, 0, 8, 0],\n",
       " [7, 0, 8, 4, 0, 9, 0, 0, 3],\n",
       " [6, 0, 1, 0, 0, 2, 0, 0, 0],\n",
       " [0, 5, 0, 0, 0, 0, 0, 6, 0],\n",
       " [4, 0, 6, 0, 7, 0, 8, 0, 0],\n",
       " [0, 0, 2, 5, 3, 8, 0, 0, 1],\n",
       " [1, 0, 0, 0, 0, 0, 0, 9, 7]]"
      ]
     },
     "execution_count": 5,
     "metadata": {},
     "output_type": "execute_result"
    }
   ],
   "source": [
    "# get the first sudoku puzzle\n",
    "grid = df.iloc[0, 0]\n",
    "\n",
    "# convert hotline puzzle into 9x9 grid using list comprehension\n",
    "grid = [[int(grid[i*9+j]) for j in range(9)] for i in range(9)]\n",
    "\n",
    "grid"
   ]
  },
  {
   "cell_type": "raw",
   "id": "4b00d410",
   "metadata": {},
   "source": [
    "# Solver the sudoku puzzle by sleeping each move by 0.5 second\n",
    "solver_1(grid, 0, 0, version='slow', speed=0.5)"
   ]
  },
  {
   "cell_type": "markdown",
   "id": "a88138ce",
   "metadata": {},
   "source": [
    "**Let's go now with our testing with no speed limitation:**"
   ]
  },
  {
   "cell_type": "code",
   "execution_count": 6,
   "id": "7f20a7ee",
   "metadata": {},
   "outputs": [
    {
     "name": "stderr",
     "output_type": "stream",
     "text": [
      "100%|███████████████████████████████████████████████████████████████████████████| 20000/20000 [00:52<00:00, 382.90it/s]"
     ]
    },
    {
     "name": "stdout",
     "output_type": "stream",
     "text": [
      "20000/20000 solved!! That's 100.0% accuracy.\n",
      "\n",
      "Wall time: 53.3 s\n"
     ]
    },
    {
     "name": "stderr",
     "output_type": "stream",
     "text": [
      "\n"
     ]
    }
   ],
   "source": [
    "%%time\n",
    "\n",
    "# reformating quizzes from hotline to 9x9 grids\n",
    "grids = df.quizzes.apply(lambda x: [[int(x[i*9+j]) for j in range(9)] for i in range(9)])\n",
    "\n",
    "# save the current time to calculate the approac speed\n",
    "tic = time.time()\n",
    "\n",
    "# assign variable to count how much had been solved correctly\n",
    "count = 0\n",
    "\n",
    "for suduko in tqdm(grids):\n",
    "    if solver_1(suduko, 0, 0, version='fast'):\n",
    "        count+=1\n",
    "\n",
    "toc = time.time()\n",
    "\n",
    "# Save results\n",
    "df_res.loc[len(df_res)] = ['Backtracking Algorithm', 'normal', toc-tic]\n",
    "\n",
    "print(\"{}/{} solved!! That's {}% accuracy.\\n\".format(count, df.shape[0],(count/len(grids))*100))"
   ]
  },
  {
   "cell_type": "markdown",
   "id": "7410d999",
   "metadata": {},
   "source": [
    "**Finally, let's test the approaches using multi-processing, which utilizes the full processing power available by distributing the iterations across all CPU cores:**"
   ]
  },
  {
   "cell_type": "code",
   "execution_count": 7,
   "id": "0c060448",
   "metadata": {},
   "outputs": [
    {
     "name": "stdout",
     "output_type": "stream",
     "text": [
      "Wall time: 13.6 s\n"
     ]
    }
   ],
   "source": [
    "%%time\n",
    "\n",
    "# reformating quizzes from hotline to 9x9 grids\n",
    "grids = df.quizzes.apply(lambda x: [[int(x[i*9+j]) for j in range(9)] for i in range(9)])\n",
    "\n",
    "tic = time.time()\n",
    "\n",
    "# Use our pre-defined multiporcessing function\n",
    "parallelize_dataframe(grids, solve_and_verify_1)\n",
    "\n",
    "toc = time.time()\n",
    "\n",
    "df_res.loc[len(df_res)] = ['Backtracking Algorithm', 'multi-processing', toc-tic]"
   ]
  },
  {
   "attachments": {
    "image-2.png": {
     "image/png": "[encoded data removed]"
    },
    "image.png": {
     "image/png": "[encoded data removed]"
    }
   },
   "cell_type": "markdown",
   "id": "03019d8d",
   "metadata": {},
   "source": [
    "## 2. Naked Twin Approach (Implementation 1): <a id='approach2'></a>\n",
    "**Now, let's delve into the Naked Twin Approach. Before we proceed with the testing, let's gain a better understanding of how it works:**\n",
    "\n",
    "**The main steps of this algorithm are as follows:**\n",
    "\n",
    "- Loop over all empty cells marked as zero \"0\":\n",
    "  - Determine the possible numbers that can be placed in this cell by eliminating any numbers that already appear in its corresponding row, column, or the 3x3 square it belongs to.\n",
    "    - If only one possible number remains:\n",
    "      - Replace the \"0\" with that number, filling the cell accordingly.\n",
    "    - Otherwise:\n",
    "      - Mark the cell as containing all the possible numbers.\n",
    "\n",
    "**Now, let's focus on the Naked Twin technique:**\n",
    "- Loop over rows, columns, and each 3x3 square:\n",
    "  - Identify if there is a Naked Pair, which refers to a situation where two cells within a row, column, or 3x3 square have the exact same pair of possible numbers.\n",
    "    - If a Naked Pair is detected:\n",
    "      - Eliminate this pair of numbers from the other cells within the same row, column, or 3x3 square.\n",
    "    - \"Plus\" if any number appears only once among all the cells.\n",
    "      - Confirm this number as the correct value for the corresponding cell.\n",
    "\n",
    "This technique closely mimics the logical reasoning employed by humans when solving Sudoku puzzles. Just like human solvers, the algorithm examines each cell and considers the possible numbers based on the constraints of the rows, columns, and 3x3 squares. The additional step of identifying numbers that appear only once throughout the grid aligns with the human strategy of looking for unique candidates in order to make confident placements.\n",
    "\n",
    "By incorporating this step, the algorithm captures the essence of human-solving techniques, making it more intuitive and aligned with human thought processes. This enhances the overall effectiveness of the Naked Twin Approach (Implementation 1) and brings it closer to the way humans approach Sudoku puzzle solving.\n",
    "\n",
    "**Example shows Naked Pairs over rows:**\n",
    "![image.png](attachment:image.png)\n",
    "\n",
    "**Example shows Naked Pairs over 3x3 squares:**\n",
    "![image-2.png](attachment:image-2.png)\n",
    "\n",
    "For more detailed explanations and visualizations, you can refer to the following link: https://www.sudokuwiki.org/Naked_Candidates\n",
    "\n",
    "\n",
    "**Let's go now with our testing the algorithm speed:**"
   ]
  },
  {
   "cell_type": "code",
   "execution_count": 8,
   "id": "96ff3955",
   "metadata": {
    "scrolled": true
   },
   "outputs": [
    {
     "name": "stderr",
     "output_type": "stream",
     "text": [
      "20000it [00:53, 376.32it/s]"
     ]
    },
    {
     "name": "stdout",
     "output_type": "stream",
     "text": [
      "20000/20000 solved!! That's 100.0% accuracy.\n",
      "\n",
      "Wall time: 53.2 s\n"
     ]
    },
    {
     "name": "stderr",
     "output_type": "stream",
     "text": [
      "\n"
     ]
    }
   ],
   "source": [
    "%%time\n",
    "tic = time.time()\n",
    "\n",
    "# assign variable to count how much had been solved correctly\n",
    "count = 0\n",
    "\n",
    "for row in tqdm(df.iterrows()):\n",
    "    if (solver_2(row[1][\"quizzes\"]) == row[1][\"solutions\"]):\n",
    "        count+=1\n",
    "\n",
    "toc = time.time()\n",
    "\n",
    "# Save results\n",
    "df_res.loc[len(df_res)] = ['Naked Twin (1)', 'normal', toc-tic]\n",
    "\n",
    "print(\"{}/{} solved!! That's {}% accuracy.\\n\".format(count, df.shape[0],(count/df.shape[0])*100))"
   ]
  },
  {
   "cell_type": "markdown",
   "id": "d2c4e417",
   "metadata": {},
   "source": [
    "**Testing the approach using Multi-processing:**"
   ]
  },
  {
   "cell_type": "code",
   "execution_count": 9,
   "id": "9a433323",
   "metadata": {
    "scrolled": true
   },
   "outputs": [
    {
     "name": "stdout",
     "output_type": "stream",
     "text": [
      "Wall time: 11.1 s\n"
     ]
    }
   ],
   "source": [
    "%%time\n",
    "\n",
    "tic = time.time()\n",
    "\n",
    "# Use our pre-defined multiporcessing function\n",
    "parallelize_dataframe(df, solve_and_verify_2)\n",
    "\n",
    "toc = time.time()\n",
    "\n",
    "# Save results\n",
    "df_res.loc[len(df_res)] = ['Naked Twin (1)', 'multi-processing', toc-tic]"
   ]
  },
  {
   "cell_type": "markdown",
   "id": "dc5e03fb",
   "metadata": {},
   "source": [
    "## 3. Naked Twin Approach (Implementation 2): <a id='approach3'></a>\n",
    "In this approach, we are still using the Naked Twin technique, but the implementation differs from the previous one. The code for this approach is sourced from a notebook available at the following link: [kaggle.com/code/yashchoudhary/deep-sudoku-solver-multiple-approaches](https://www.kaggle.com/code/yashchoudhary/deep-sudoku-solver-multiple-approaches#Normal-Approach-#2).\n",
    "\n",
    "The objective of comparing different implementations is to evaluate their performance and determine which approach is more efficient.\n",
    "\n",
    "**Now, let's proceed with testing the speed of this approach:**"
   ]
  },
  {
   "cell_type": "code",
   "execution_count": 10,
   "id": "2d5d6f6b",
   "metadata": {
    "scrolled": true
   },
   "outputs": [
    {
     "name": "stderr",
     "output_type": "stream",
     "text": [
      "20000it [01:08, 290.43it/s]"
     ]
    },
    {
     "name": "stdout",
     "output_type": "stream",
     "text": [
      "20000/20000 solved!! That's 100.0% accuracy.\n",
      "\n",
      "Wall time: 1min 8s\n"
     ]
    },
    {
     "name": "stderr",
     "output_type": "stream",
     "text": [
      "\n"
     ]
    }
   ],
   "source": [
    "%%time\n",
    "tic = time.time()\n",
    "\n",
    "# assign variable to count how much had been solved correctly\n",
    "count = 0\n",
    "\n",
    "for row in tqdm(df.iterrows()):\n",
    "    if (solve_3(row[1][\"quizzes\"]) == grid_values(row[1][\"solutions\"])):\n",
    "        count+=1\n",
    "        \n",
    "toc = time.time()\n",
    "\n",
    "# Save results\n",
    "df_res.loc[len(df_res)] = ['Naked Twin (2)', 'normal', toc-tic]\n",
    "\n",
    "print(\"{}/{} solved!! That's {}% accuracy.\\n\".format(count, df.shape[0],(count/df.shape[0])*100))"
   ]
  },
  {
   "cell_type": "markdown",
   "id": "762e1ed3",
   "metadata": {},
   "source": [
    "**Testing the approach using Multi-processing:**"
   ]
  },
  {
   "cell_type": "code",
   "execution_count": 11,
   "id": "46ffbd85",
   "metadata": {},
   "outputs": [
    {
     "name": "stdout",
     "output_type": "stream",
     "text": [
      "Wall time: 14.6 s\n"
     ]
    }
   ],
   "source": [
    "%%time\n",
    "\n",
    "tic = time.time()\n",
    "\n",
    "# Use our pre-defined multiporcessing function\n",
    "parallelize_dataframe(df, solve_and_verify_3)\n",
    "\n",
    "toc = time.time()\n",
    "\n",
    "# Save results\n",
    "df_res.loc[len(df_res)] = ['Naked Twin (2)', 'multi-processing', toc-tic]"
   ]
  },
  {
   "cell_type": "markdown",
   "id": "5b9646e6",
   "metadata": {},
   "source": [
    "**For now we're done getting our results which we can start to analysis now**"
   ]
  },
  {
   "cell_type": "markdown",
   "id": "0e0b08c3",
   "metadata": {},
   "source": [
    "## Analyse the results: <a id='Analyse'></a>"
   ]
  },
  {
   "cell_type": "code",
   "execution_count": 13,
   "id": "72b4fc41",
   "metadata": {},
   "outputs": [
    {
     "data": {
      "image/png": "[encoded data removed]",
      "text/plain": [
       "<Figure size 1000x500 with 2 Axes>"
      ]
     },
     "metadata": {},
     "output_type": "display_data"
    }
   ],
   "source": [
    "# plot \n",
    "g = sns.FacetGrid(data=df_res, col='mode', hue=\"approach\", sharey=False, height=5)\n",
    "g.map(sns.barplot, \"approach\", \"speed\", palette=\"tab10\", order=df_res.approach.unique())\n",
    "    \n",
    "# show each bar seconds on the plot\n",
    "for ax in g.axes[0]:\n",
    "    for p in ax.patches:\n",
    "        h = p.get_height()\n",
    "        w = p.get_width()\n",
    "        ax.annotate(\"%.2f sec\" % h, (p.get_x() + w / 2., h),\n",
    "                    ha='center', va='center', fontsize=11, color='black', xytext=(0, 5),\n",
    "                    textcoords='offset points')\n",
    "\n",
    "# customize the figure title\n",
    "g.fig.subplots_adjust(top=0.80)\n",
    "g.fig.suptitle(\"Approaches Comparison\", fontsize=25)\n",
    "plt.show();"
   ]
  },
  {
   "cell_type": "markdown",
   "id": "2eef66a9",
   "metadata": {},
   "source": [
    "## Conclusion: <a id='conclusion'></a>\n",
    "- **Results over modes**: As shown in the plot above, the multi-processing mode outperformed the normal mode. By utilizing multi-processing, which distributes the iterations across all CPU cores, we achieved significantly better results in terms of execution time.\n",
    "- **Results over Approaches:** \n",
    "  - Comparing the different approaches, we observed that there was not a significant difference in the success percentage between the approaches in both modes. However, when comparing them against the *Backtracking Algorithm*, which serves as our baseline algorithm, our implementation of the *Naked Twin approach (1)* showed slightly better performance. This result is surprising considering that the implementation of the *Naked Twin approach* is more complex compared to the *Backtracking Algorithm*. \n",
    "  - It is important to note that the dataset used for testing may not provide a comprehensive assessment of the approaches, as it lacks information such as difficulty levels. In the next notebook, we will test the approaches using a larger dataset containing 3 million Sudoku puzzles, which is more informative.\n",
    "\n",
    "While we were able to surpass the Backtracking Algorithm with our implementation, further exploration is needed to compare the approaches in different scenarios. Stay tuned for the next part, where we will delve deeper into the analysis.\n",
    "\n",
    "> **For now, take care everyone, and may your journey be filled with success as you pursue your dreams and reach for the stars!** 🙏🌹<br>\n",
    "> **Peace. 👋**"
   ]
  }
 ],
 "metadata": {
  "kernelspec": {
   "display_name": "Python 3",
   "language": "python",
   "name": "python3"
  },
  "language_info": {
   "codemirror_mode": {
    "name": "ipython",
    "version": 3
   },
   "file_extension": ".py",
   "mimetype": "text/x-python",
   "name": "python",
   "nbconvert_exporter": "python",
   "pygments_lexer": "ipython3",
   "version": "3.7.16"
  }
 },
 "nbformat": 4,
 "nbformat_minor": 5
}
